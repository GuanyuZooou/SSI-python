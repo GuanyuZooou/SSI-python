{
 "cells": [
  {
   "cell_type": "markdown",
   "id": "6e34c103",
   "metadata": {},
   "source": [
    "# a program that calculates the area and perimeter of a rectangle using a class.\n",
    "    "
   ]
  },
  {
   "cell_type": "code",
   "execution_count": 1,
   "id": "eac9e0b3",
   "metadata": {},
   "outputs": [
    {
     "name": "stdout",
     "output_type": "stream",
     "text": [
      "Enter the length of the rectangle: 5\n",
      "Enter the width of the rectangle: 3\n",
      "Area: 15.0\n",
      "Perimeter: 16.0\n"
     ]
    }
   ],
   "source": [
    "class Rectangle:\n",
    "    def __init__(self, length, width):\n",
    "        self.length = length\n",
    "        self.width = width\n",
    "\n",
    "    def calculate_area(self):\n",
    "        return self.length * self.width\n",
    "\n",
    "    def calculate_perimeter(self):\n",
    "        return 2 * (self.length + self.width)\n",
    "\n",
    "# Usage example\n",
    "length = float(input(\"Enter the length of the rectangle: \"))\n",
    "width = float(input(\"Enter the width of the rectangle: \"))\n",
    "\n",
    "rectangle = Rectangle(length, width)\n",
    "area = rectangle.calculate_area()\n",
    "perimeter = rectangle.calculate_perimeter()\n",
    "\n",
    "print(\"Area:\", area)\n",
    "print(\"Perimeter:\", perimeter)"
   ]
  },
  {
   "cell_type": "markdown",
   "id": "eedea51e",
   "metadata": {},
   "source": [
    "# a program that sorts a list of strings alphabetically."
   ]
  },
  {
   "cell_type": "code",
   "execution_count": 2,
   "id": "7ad2def7",
   "metadata": {},
   "outputs": [
    {
     "name": "stdout",
     "output_type": "stream",
     "text": [
      "Sorted list: ['apple', 'banana', 'cat', 'dog', 'elephant']\n"
     ]
    }
   ],
   "source": [
    "def sort_strings(strings):\n",
    "    sorted_strings = sorted(strings)\n",
    "    return sorted_strings\n",
    "\n",
    "# Usage example\n",
    "string_list = [\"apple\", \"banana\", \"cat\", \"dog\", \"elephant\"]\n",
    "\n",
    "sorted_list = sort_strings(string_list)\n",
    "print(\"Sorted list:\", sorted_list)\n"
   ]
  },
  {
   "cell_type": "markdown",
   "id": "355cab18",
   "metadata": {},
   "source": [
    "# a program that generates a random number and asks the user to guess it."
   ]
  },
  {
   "cell_type": "code",
   "execution_count": null,
   "id": "abb2c6a6",
   "metadata": {},
   "outputs": [
    {
     "name": "stdout",
     "output_type": "stream",
     "text": [
      "Guess a number between 1 and 100: 3\n",
      "Too low!\n",
      "Guess a number between 1 and 100: 67\n",
      "Too low!\n",
      "Guess a number between 1 and 100: 88\n",
      "Too high!\n",
      "Guess a number between 1 and 100: 77\n",
      "Too high!\n",
      "Guess a number between 1 and 100: 73\n",
      "Too high!\n"
     ]
    }
   ],
   "source": [
    "import random\n",
    "\n",
    "def guess_number():\n",
    "    random_number = random.randint(1, 100)\n",
    "    attempts = 0\n",
    "\n",
    "    while True:\n",
    "        guess = int(input(\"Guess a number between 1 and 100: \"))\n",
    "        attempts += 1\n",
    "\n",
    "        if guess < random_number:\n",
    "            print(\"Too low!\")\n",
    "        elif guess > random_number:\n",
    "            print(\"Too high!\")\n",
    "        else:\n",
    "            print(\"Congratulations! You guessed the number.\")\n",
    "            break\n",
    "\n",
    "    print(\"Number of attempts:\", attempts)\n",
    "\n",
    "# Usage example\n",
    "guess_number()\n"
   ]
  },
  {
   "cell_type": "code",
   "execution_count": null,
   "id": "5a82a134",
   "metadata": {},
   "outputs": [],
   "source": []
  }
 ],
 "metadata": {
  "kernelspec": {
   "display_name": "Python 3 (ipykernel)",
   "language": "python",
   "name": "python3"
  },
  "language_info": {
   "codemirror_mode": {
    "name": "ipython",
    "version": 3
   },
   "file_extension": ".py",
   "mimetype": "text/x-python",
   "name": "python",
   "nbconvert_exporter": "python",
   "pygments_lexer": "ipython3",
   "version": "3.10.9"
  }
 },
 "nbformat": 4,
 "nbformat_minor": 5
}
