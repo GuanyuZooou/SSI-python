{
 "cells": [
  {
   "cell_type": "markdown",
   "id": "eb1b0612",
   "metadata": {},
   "source": [
    "# outputs the sum of all numbers between 1 and 100 that are divisible by 3 or 5"
   ]
  },
  {
   "cell_type": "code",
   "execution_count": null,
   "id": "f70b4a10",
   "metadata": {},
   "outputs": [],
   "source": [
    "sum = 0\n",
    "\n",
    "for num in range(1, 101):\n",
    "    if num % 3 == 0 or num % 5 == 0:\n",
    "        sum += num\n",
    "\n",
    "print(\"The sum of numbers divisible by 3 or 5 between 1 and 100 is:\", sum)\n"
   ]
  },
  {
   "cell_type": "markdown",
   "id": "daa92753",
   "metadata": {},
   "source": [
    "# checks if a given string is a palindrome"
   ]
  },
  {
   "cell_type": "code",
   "execution_count": null,
   "id": "fc9825f8",
   "metadata": {},
   "outputs": [],
   "source": [
    "def is_palindrome(word):\n",
    "    # Remove spaces and convert to lowercase\n",
    "    word = word.replace(\" \", \"\").lower()\n",
    "    \n",
    "    # Reverse the word\n",
    "    reversed_word = word[::-1]\n",
    "    \n",
    "    # Check if the word is a palindrome\n",
    "    if word == reversed_word:\n",
    "        return True\n",
    "    else:\n",
    "        return False\n",
    "\n",
    "# Test the function\n",
    "input_string = input(\"Enter a word or phrase: \")\n",
    "if is_palindrome(input_string):\n",
    "    print(\"The input is a palindrome.\")\n",
    "else:\n",
    "    print(\"The input is not a palindrome.\")\n"
   ]
  },
  {
   "cell_type": "markdown",
   "id": "400ae8a5",
   "metadata": {},
   "source": [
    "# outputs the factorial of a given number"
   ]
  },
  {
   "cell_type": "code",
   "execution_count": null,
   "id": "dd6013cc",
   "metadata": {},
   "outputs": [],
   "source": [
    "def factorial(num):\n",
    "    # Base case: factorial of 0 or 1 is 1\n",
    "    if num == 0 or num == 1:\n",
    "        return 1\n",
    "    \n",
    "    # Recursive case: calculate factorial\n",
    "    else:\n",
    "        return num * factorial(num - 1)\n",
    "\n",
    "# Test the function\n",
    "input_num = int(input(\"Enter a number: \"))\n",
    "result = factorial(input_num)\n",
    "print(\"The factorial of\", input_num, \"is:\", result)\n"
   ]
  }
 ],
 "metadata": {
  "kernelspec": {
   "display_name": "Python 3 (ipykernel)",
   "language": "python",
   "name": "python3"
  },
  "language_info": {
   "codemirror_mode": {
    "name": "ipython",
    "version": 3
   },
   "file_extension": ".py",
   "mimetype": "text/x-python",
   "name": "python",
   "nbconvert_exporter": "python",
   "pygments_lexer": "ipython3",
   "version": "3.10.9"
  }
 },
 "nbformat": 4,
 "nbformat_minor": 5
}
