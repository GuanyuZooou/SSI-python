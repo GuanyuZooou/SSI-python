{
 "cells": [
  {
   "cell_type": "markdown",
   "id": "564946fd",
   "metadata": {},
   "source": [
    "# calculates the area and circumference of a circle using a class"
   ]
  },
  {
   "cell_type": "code",
   "execution_count": 4,
   "id": "d35c6199",
   "metadata": {},
   "outputs": [
    {
     "name": "stdout",
     "output_type": "stream",
     "text": [
      "Enter the radius of the circle: 4\n",
      "Area: 50.26548245743669\n",
      "Circumference: 25.132741228718345\n"
     ]
    }
   ],
   "source": [
    "import math\n",
    "\n",
    "class Circle:\n",
    "    def __init__(self, radius):\n",
    "        self.radius = radius\n",
    "\n",
    "    def calculate_area(self):\n",
    "        return math.pi * self.radius**2\n",
    "\n",
    "    def calculate_circumference(self):\n",
    "    \n",
    "        return 2 * math.pi * self.radius\n",
    "\n",
    "# Example usage\n",
    "radius = float(input(\"Enter the radius of the circle: \"))\n",
    "circle = Circle(radius)\n",
    "print(\"Area:\", circle.calculate_area())\n",
    "print(\"Circumference:\", circle.calculate_circumference())\n"
   ]
  },
  {
   "cell_type": "markdown",
   "id": "2bc7d8d3",
   "metadata": {},
   "source": [
    "# implements a stack data structure using a class"
   ]
  },
  {
   "cell_type": "code",
   "execution_count": 2,
   "id": "ac2b9ae3",
   "metadata": {},
   "outputs": [
    {
     "name": "stdout",
     "output_type": "stream",
     "text": [
      "Stack size: 3\n",
      "Top of the stack: 30\n",
      "Popped item: 30\n",
      "Stack size after pop operation: 2\n"
     ]
    }
   ],
   "source": [
    "class Stack:\n",
    "    def __init__(self):\n",
    "        self.stack = []\n",
    "\n",
    "    def push(self, item):\n",
    "        self.stack.append(item)\n",
    "\n",
    "    def pop(self):\n",
    "        if not self.is_empty():\n",
    "            return self.stack.pop()\n",
    "        else:\n",
    "            return \"Stack is empty.\"\n",
    "\n",
    "    def is_empty(self):\n",
    "        return len(self.stack) == 0\n",
    "\n",
    "    def size(self):\n",
    "        return len(self.stack)\n",
    "\n",
    "    def peek(self):\n",
    "        if not self.is_empty():\n",
    "            return self.stack[-1]\n",
    "        else:\n",
    "            return \"Stack is empty.\"\n",
    "\n",
    "# Example usage\n",
    "stack = Stack()\n",
    "stack.push(10)\n",
    "stack.push(20)\n",
    "stack.push(30)\n",
    "print(\"Stack size:\", stack.size())\n",
    "print(\"Top of the stack:\", stack.peek())\n",
    "print(\"Popped item:\", stack.pop())\n",
    "print(\"Stack size after pop operation:\", stack.size())"
   ]
  },
  {
   "cell_type": "markdown",
   "id": "e2838136",
   "metadata": {},
   "source": [
    "# reads a file containing data about various shapes and creates objects of the appropriate classes to represent them"
   ]
  },
  {
   "cell_type": "code",
   "execution_count": 6,
   "id": "d8fd10b4",
   "metadata": {},
   "outputs": [
    {
     "name": "stdout",
     "output_type": "stream",
     "text": [
      "Shape: Circle\n",
      "Shape: Rectangle\n",
      "Shape: Triangle\n"
     ]
    }
   ],
   "source": [
    "class Circle:\n",
    "    def __init__(self, radius):\n",
    "        self.radius = radius\n",
    "\n",
    "    def calculate_area(self):\n",
    "        return 3.14 * self.radius**2\n",
    "\n",
    "class Rectangle:\n",
    "    def __init__(self, length, width):\n",
    "        self.length = length\n",
    "        self.width = width\n",
    "\n",
    "    def calculate_area(self):\n",
    "        return self.length * self.width\n",
    "\n",
    "class Triangle:\n",
    "    def __init__(self, side1, side2, side3):\n",
    "        self.side1 = side1\n",
    "        self.side2 = side2\n",
    "        self.side3 = side3\n",
    "\n",
    "    def calculate_area(self):\n",
    "        s = (self.side1 + self.side2 + self.side3) / 2\n",
    "        return (s * (s - self.side1) * (s - self.side2) * (s - self.side3)) ** 0.5\n",
    "\n",
    "# Read the file and create shape objects\n",
    "shapes = []\n",
    "with open(\"shapes.txt\", \"r\") as file:\n",
    "    for line in file:\n",
    "        shape_data = line.strip().split(\",\")\n",
    "        shape_type = shape_data[0]\n",
    "        if shape_type == \"circle\":\n",
    "            radius = float(shape_data[1])\n",
    "            shape = Circle(radius)\n",
    "        elif shape_type == \"rectangle\":\n",
    "            length = float(shape_data[1])\n",
    "            width = float(shape_data[2])\n",
    "            shape = Rectangle(length, width)\n",
    "        elif shape_type == \"triangle\":\n",
    "            side1 = float(shape_data[1])\n",
    "            side2 = float(shape_data[2])\n",
    "            side3 = float(shape_data[3])\n",
    "            shape = Triangle(side1, side2, side3)\n",
    "        else:\n",
    "            print(\"Unknown shape type:\", shape_type)\n",
    "            continue\n",
    "        shapes.append(shape)\n",
    "\n",
    "# Print the areas of the shapes\n",
    "for shape in shapes:\n",
    "    area = shape.calculate_area()\n",
    "    print(\"Shape:\", type(shape).__name__)\n",
    "    print"
   ]
  },
  {
   "cell_type": "code",
   "execution_count": null,
   "id": "cb6e23ce",
   "metadata": {},
   "outputs": [],
   "source": []
  },
  {
   "cell_type": "code",
   "execution_count": null,
   "id": "df607801",
   "metadata": {},
   "outputs": [],
   "source": []
  }
 ],
 "metadata": {
  "kernelspec": {
   "display_name": "Python 3 (ipykernel)",
   "language": "python",
   "name": "python3"
  },
  "language_info": {
   "codemirror_mode": {
    "name": "ipython",
    "version": 3
   },
   "file_extension": ".py",
   "mimetype": "text/x-python",
   "name": "python",
   "nbconvert_exporter": "python",
   "pygments_lexer": "ipython3",
   "version": "3.10.9"
  }
 },
 "nbformat": 4,
 "nbformat_minor": 5
}
