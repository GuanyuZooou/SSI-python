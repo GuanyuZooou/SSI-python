{
 "cells": [
  {
   "cell_type": "code",
   "execution_count": 1,
   "id": "2e3c5ca1",
   "metadata": {},
   "outputs": [
    {
     "name": "stdout",
     "output_type": "stream",
     "text": [
      "Enter a number: 8\n",
      "The number is positive\n"
     ]
    }
   ],
   "source": [
    "number = float(input(\"Enter a number: \"))   # Take input from user as a float\n",
    "\n",
    "if number > 0:   # Check if the number is greater than zero\n",
    "    print(\"The number is positive\")\n",
    "elif number == 0:  # Check if the number is equal to zero\n",
    "    print(\"The number is zero\")\n",
    "else:   # If the number is not greater than zero or equal to zero, it must be negative\n",
    "    print(\"The number is negative\")\n"
   ]
  },
  {
   "cell_type": "code",
   "execution_count": 3,
   "id": "30e087d8",
   "metadata": {},
   "outputs": [
    {
     "name": "stdout",
     "output_type": "stream",
     "text": [
      "2\n",
      "3\n",
      "5\n",
      "7\n",
      "11\n",
      "13\n",
      "17\n",
      "19\n",
      "23\n",
      "29\n",
      "31\n",
      "37\n",
      "41\n",
      "43\n",
      "47\n",
      "53\n",
      "59\n",
      "61\n",
      "67\n",
      "71\n",
      "73\n",
      "79\n",
      "83\n",
      "89\n",
      "97\n"
     ]
    }
   ],
   "source": [
    "for num in range(2, 101):   # Iterate over numbers between 2 and 100\n",
    "    is_prime = True   # Assume the number is prime until proven otherwise\n",
    "    for i in range(2, num):   # Check if the number is divisible by any number between 2 and itself\n",
    "        if num % i == 0:\n",
    "            is_prime = False   # If the number is divisible by any other number, it's not prime\n",
    "            break\n",
    "    if is_prime:   # If the number is prime, print it\n",
    "        print(num)"
   ]
  },
  {
   "cell_type": "code",
   "execution_count": 4,
   "id": "0f4d02aa",
   "metadata": {},
   "outputs": [
    {
     "name": "stdout",
     "output_type": "stream",
     "text": [
      "25\n",
      "33\n",
      "57\n",
      "75\n",
      "91\n"
     ]
    }
   ],
   "source": [
    "my_list = [12, 25, 33, 46, 57, 62, 75, 88, 91, 104]   # Create a list with 10 elements\n",
    "\n",
    "for num in my_list:   # Iterate over each element in the list\n",
    "    if num % 2 != 0:   # Check if the element is odd (i.e., not divisible by 2)\n",
    "        print(num)   # If the element is odd, print it"
   ]
  },
  {
   "cell_type": "code",
   "execution_count": null,
   "id": "249167f6",
   "metadata": {},
   "outputs": [],
   "source": []
  }
 ],
 "metadata": {
  "kernelspec": {
   "display_name": "Python 3 (ipykernel)",
   "language": "python",
   "name": "python3"
  },
  "language_info": {
   "codemirror_mode": {
    "name": "ipython",
    "version": 3
   },
   "file_extension": ".py",
   "mimetype": "text/x-python",
   "name": "python",
   "nbconvert_exporter": "python",
   "pygments_lexer": "ipython3",
   "version": "3.10.9"
  }
 },
 "nbformat": 4,
 "nbformat_minor": 5
}
